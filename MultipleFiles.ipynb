{
 "cells": [
  {
   "cell_type": "code",
   "execution_count": 1,
   "metadata": {
    "collapsed": true
   },
   "outputs": [],
   "source": [
    "import glob"
   ]
  },
  {
   "cell_type": "code",
   "execution_count": 2,
   "metadata": {
    "collapsed": false
   },
   "outputs": [
    {
     "name": "stdout",
     "output_type": "stream",
     "text": [
      "['inflammation-08.csv', 'inflammation-05.csv', 'inflammation-03.csv', 'small-02.csv', 'inflammation-09.csv', 'inflammation-06.csv', 'inflammation-01.csv', 'inflammation-02.csv', 'small-03.csv', 'inflammation-11.csv', 'inflammation-12.csv', 'inflammation-10.csv', 'inflammation-04.csv', 'small-01.csv', 'inflammation-07.csv']\n"
     ]
    }
   ],
   "source": [
    "print glob.glob('*.csv')"
   ]
  },
  {
   "cell_type": "code",
   "execution_count": 5,
   "metadata": {
    "collapsed": false
   },
   "outputs": [
    {
     "name": "stdout",
     "output_type": "stream",
     "text": [
      "['inflammation-01.csv', 'inflammation-02.csv', 'inflammation-03.csv']\n",
      "inflammation-01.csv\n",
      "inflammation-02.csv\n",
      "inflammation-03.csv\n"
     ]
    }
   ],
   "source": [
    "datafiles = glob.glob('*.csv')\n",
    "datafiles.sort()\n",
    "print datafiles[:3]\n",
    "for filename in datafiles[:3]:\n",
    "    print filename"
   ]
  },
  {
   "cell_type": "code",
   "execution_count": null,
   "metadata": {
    "collapsed": true
   },
   "outputs": [],
   "source": [
    "datafiles = glob.glob('*.csv')\n",
    "datafiles.sort()\n",
    "print datafiles[:3]\n",
    "for filename in datafiles[:3]:\n",
    "    print filename\n",
    "    "
   ]
  }
 ],
 "metadata": {
  "kernelspec": {
   "display_name": "Python 2",
   "language": "python",
   "name": "python2"
  },
  "language_info": {
   "codemirror_mode": {
    "name": "ipython",
    "version": 2
   },
   "file_extension": ".py",
   "mimetype": "text/x-python",
   "name": "python",
   "nbconvert_exporter": "python",
   "pygments_lexer": "ipython2",
   "version": "2.7.10"
  }
 },
 "nbformat": 4,
 "nbformat_minor": 0
}
