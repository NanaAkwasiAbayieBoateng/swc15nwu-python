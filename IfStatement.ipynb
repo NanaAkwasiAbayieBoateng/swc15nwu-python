{
 "cells": [
  {
   "cell_type": "code",
   "execution_count": 2,
   "metadata": {
    "collapsed": false
   },
   "outputs": [
    {
     "name": "stdout",
     "output_type": "stream",
     "text": [
      "greater\n"
     ]
    }
   ],
   "source": [
    "num = 120\n",
    "if num > 100:\n",
    "    print 'greater'\n",
    "else:\n",
    "    print 'not greater'"
   ]
  },
  {
   "cell_type": "code",
   "execution_count": 8,
   "metadata": {
    "collapsed": false,
    "scrolled": true
   },
   "outputs": [
    {
     "name": "stdout",
     "output_type": "stream",
     "text": [
      "number is even\n"
     ]
    }
   ],
   "source": [
    "num = 50\n",
    "if num % 2 == 0:\n",
    "    print 'number is even'"
   ]
  },
  {
   "cell_type": "code",
   "execution_count": 6,
   "metadata": {
    "collapsed": false
   },
   "outputs": [
    {
     "name": "stdout",
     "output_type": "stream",
     "text": [
      "modulo operator\n",
      "5 % 2 1\n",
      "8 % 2 0\n"
     ]
    }
   ],
   "source": [
    "print 'modulo operator'\n",
    "print '5 % 2', 5 % 2\n",
    "print '8 % 2', 8 % 2"
   ]
  },
  {
   "cell_type": "code",
   "execution_count": 9,
   "metadata": {
    "collapsed": false
   },
   "outputs": [
    {
     "ename": "SyntaxError",
     "evalue": "invalid syntax (<ipython-input-9-9a32442c7e73>, line 2)",
     "output_type": "error",
     "traceback": [
      "\u001b[1;36m  File \u001b[1;32m\"<ipython-input-9-9a32442c7e73>\"\u001b[1;36m, line \u001b[1;32m2\u001b[0m\n\u001b[1;33m    if number = 6:\u001b[0m\n\u001b[1;37m              ^\u001b[0m\n\u001b[1;31mSyntaxError\u001b[0m\u001b[1;31m:\u001b[0m invalid syntax\n"
     ]
    }
   ],
   "source": [
    "number = 8\n",
    "if number = 6:\n",
    "    print \"a six\""
   ]
  },
  {
   "cell_type": "code",
   "execution_count": 11,
   "metadata": {
    "collapsed": false
   },
   "outputs": [],
   "source": [
    "number = (5 * 3 + (7 *11))\n",
    "other_number = 5"
   ]
  },
  {
   "cell_type": "code",
   "execution_count": 12,
   "metadata": {
    "collapsed": false
   },
   "outputs": [
    {
     "name": "stdout",
     "output_type": "stream",
     "text": [
      "-3 is negative\n"
     ]
    }
   ],
   "source": [
    "num = -3\n",
    "\n",
    "if num > 0:\n",
    "    print num,\"is positive\"\n",
    "elif num == 0:\n",
    "    print num, \"is zero\"\n",
    "else:\n",
    "    print num, \"is negative\""
   ]
  },
  {
   "cell_type": "code",
   "execution_count": 13,
   "metadata": {
    "collapsed": false
   },
   "outputs": [
    {
     "name": "stdout",
     "output_type": "stream",
     "text": [
      "5 is a valid school grade\n"
     ]
    }
   ],
   "source": [
    "number = 5\n",
    "if (number <= 12) and (number >= 1):\n",
    "    print number, \"is a valid school grade\""
   ]
  },
  {
   "cell_type": "code",
   "execution_count": 16,
   "metadata": {
    "collapsed": false
   },
   "outputs": [
    {
     "name": "stdout",
     "output_type": "stream",
     "text": [
      "Peter hasn't taught SWC there yet\n"
     ]
    }
   ],
   "source": [
    "location = 'UWC'\n",
    "if (location == 'NWU') or (location == 'UCT'):\n",
    "    print \"Peter has taught a Software Carpentry workshop there\"\n",
    "else:\n",
    "    print \"Peter hasn't taught SWC there yet\""
   ]
  },
  {
   "cell_type": "code",
   "execution_count": 17,
   "metadata": {
    "collapsed": false
   },
   "outputs": [
    {
     "name": "stdout",
     "output_type": "stream",
     "text": [
      "57 is less than or equal to 100\n"
     ]
    }
   ],
   "source": [
    "number = 57\n",
    "if not (number > 100):\n",
    "    print number, \"is less than or equal to 100\""
   ]
  },
  {
   "cell_type": "code",
   "execution_count": 25,
   "metadata": {
    "collapsed": false
   },
   "outputs": [],
   "source": [
    "import numpy\n",
    "import glob"
   ]
  },
  {
   "cell_type": "code",
   "execution_count": 21,
   "metadata": {
    "collapsed": false
   },
   "outputs": [],
   "source": [
    "data = numpy.loadtxt(fname='inflammation-01.csv', delimiter=',')"
   ]
  },
  {
   "cell_type": "code",
   "execution_count": 22,
   "metadata": {
    "collapsed": false
   },
   "outputs": [
    {
     "name": "stdout",
     "output_type": "stream",
     "text": [
      "[  0.   1.   2.   3.   4.   5.   6.   7.   8.   9.  10.  11.  12.  13.  14.\n",
      "  15.  16.  17.  18.  19.  20.  19.  18.  17.  16.  15.  14.  13.  12.  11.\n",
      "  10.   9.   8.   7.   6.   5.   4.   3.   2.   1.]\n"
     ]
    }
   ],
   "source": [
    "print data.max(axis=0)"
   ]
  },
  {
   "cell_type": "code",
   "execution_count": 23,
   "metadata": {
    "collapsed": false
   },
   "outputs": [
    {
     "name": "stdout",
     "output_type": "stream",
     "text": [
      "Data looks suspicious\n"
     ]
    }
   ],
   "source": [
    "if data.max(axis=0)[0] == 0 and data.max(axis=0)[20] == 20:\n",
    "    print \"Data looks suspicious\"\n",
    "elif data.min(axis=0).sum() == 0:\n",
    "    print 'Minima add up to zero!'\n",
    "else:\n",
    "    print 'Data seems OK'"
   ]
  },
  {
   "cell_type": "code",
   "execution_count": 28,
   "metadata": {
    "collapsed": false
   },
   "outputs": [
    {
     "name": "stdout",
     "output_type": "stream",
     "text": [
      "inflammation-01.csv\n",
      "Data looks suspicious\n",
      "inflammation-02.csv\n",
      "Data looks suspicious\n",
      "inflammation-03.csv\n",
      "Minima add up to zero!\n",
      "inflammation-04.csv\n",
      "Data looks suspicious\n",
      "inflammation-05.csv\n",
      "Data looks suspicious\n",
      "inflammation-06.csv\n",
      "Data looks suspicious\n",
      "inflammation-07.csv\n",
      "Data looks suspicious\n",
      "inflammation-08.csv\n",
      "Minima add up to zero!\n",
      "inflammation-09.csv\n",
      "Data looks suspicious\n",
      "inflammation-10.csv\n",
      "Data looks suspicious\n",
      "inflammation-11.csv\n",
      "Minima add up to zero!\n",
      "inflammation-12.csv\n",
      "Data looks suspicious\n"
     ]
    }
   ],
   "source": [
    "datafiles = glob.glob('i*.csv')\n",
    "datafiles.sort()\n",
    "for filename in datafiles:\n",
    "    data = numpy.loadtxt(fname=filename, delimiter=',')\n",
    "    print filename\n",
    "    if data.max(axis=0)[0] == 0 and data.max(axis=0)[20] == 20:\n",
    "        print \"Data looks suspicious\"\n",
    "    elif data.min(axis=0).sum() == 0:\n",
    "        print 'Minima add up to zero!'\n",
    "    else:\n",
    "        print 'Data seems OK'\n",
    "    "
   ]
  },
  {
   "cell_type": "code",
   "execution_count": 29,
   "metadata": {
    "collapsed": false
   },
   "outputs": [
    {
     "name": "stdout",
     "output_type": "stream",
     "text": [
      "C\n"
     ]
    }
   ],
   "source": [
    "if 4 > 5:\n",
    "    print 'A'\n",
    "elif 4 == 5:\n",
    "    print 'B'\n",
    "else:\n",
    "    print 'C'"
   ]
  },
  {
   "cell_type": "code",
   "execution_count": 31,
   "metadata": {
    "collapsed": false
   },
   "outputs": [],
   "source": [
    "boolean_value = 4 > 5"
   ]
  },
  {
   "cell_type": "code",
   "execution_count": 32,
   "metadata": {
    "collapsed": false
   },
   "outputs": [
    {
     "name": "stdout",
     "output_type": "stream",
     "text": [
      "<type 'bool'>\n"
     ]
    }
   ],
   "source": [
    "print type(boolean_value)"
   ]
  },
  {
   "cell_type": "code",
   "execution_count": 35,
   "metadata": {
    "collapsed": false
   },
   "outputs": [
    {
     "name": "stdout",
     "output_type": "stream",
     "text": [
      "<type 'bool'>\n",
      "<type 'bool'>\n",
      "<type 'str'>\n"
     ]
    },
    {
     "ename": "NameError",
     "evalue": "name 'true' is not defined",
     "output_type": "error",
     "traceback": [
      "\u001b[1;31m---------------------------------------------------------------------------\u001b[0m",
      "\u001b[1;31mNameError\u001b[0m                                 Traceback (most recent call last)",
      "\u001b[1;32m<ipython-input-35-c4e80882f946>\u001b[0m in \u001b[0;36m<module>\u001b[1;34m()\u001b[0m\n\u001b[0;32m      5\u001b[0m \u001b[0mnot_a_bool\u001b[0m \u001b[1;33m=\u001b[0m \u001b[1;34m'True'\u001b[0m\u001b[1;33m\u001b[0m\u001b[0m\n\u001b[0;32m      6\u001b[0m \u001b[1;32mprint\u001b[0m \u001b[0mtype\u001b[0m\u001b[1;33m(\u001b[0m\u001b[0mnot_a_bool\u001b[0m\u001b[1;33m)\u001b[0m\u001b[1;33m\u001b[0m\u001b[0m\n\u001b[1;32m----> 7\u001b[1;33m \u001b[0malso_not_a_bool\u001b[0m \u001b[1;33m=\u001b[0m \u001b[0mtrue\u001b[0m\u001b[1;33m\u001b[0m\u001b[0m\n\u001b[0m",
      "\u001b[1;31mNameError\u001b[0m: name 'true' is not defined"
     ]
    }
   ],
   "source": [
    "true_value = True\n",
    "print type(true_value)\n",
    "false_value = False\n",
    "print type(false_value)\n",
    "not_a_bool = 'True'\n",
    "print type(not_a_bool)\n",
    "also_not_a_bool = true"
   ]
  },
  {
   "cell_type": "code",
   "execution_count": 36,
   "metadata": {
    "collapsed": false
   },
   "outputs": [
    {
     "data": {
      "text/plain": [
       "False"
      ]
     },
     "execution_count": 36,
     "metadata": {},
     "output_type": "execute_result"
    }
   ],
   "source": [
    "bool(4 > 5)"
   ]
  },
  {
   "cell_type": "code",
   "execution_count": 40,
   "metadata": {
    "collapsed": false
   },
   "outputs": [
    {
     "name": "stdout",
     "output_type": "stream",
     "text": [
      "5 as bool: True\n",
      "0 as bool: False\n",
      "'hello' as bool: True\n",
      "'' as bool: False\n",
      "[1,2,3] as bool: True\n",
      "[] as bool: False\n"
     ]
    }
   ],
   "source": [
    "print \"5 as bool:\", bool(5)\n",
    "print \"0 as bool:\", bool(0)\n",
    "print \"'hello' as bool:\", bool(\"hello\")\n",
    "print \"'' as bool:\",bool('')\n",
    "print \"[1,2,3] as bool:\", bool([1,2,3])\n",
    "print \"[] as bool:\", bool([])"
   ]
  },
  {
   "cell_type": "code",
   "execution_count": 44,
   "metadata": {
    "collapsed": false
   },
   "outputs": [
    {
     "name": "stdout",
     "output_type": "stream",
     "text": [
      "We have no hard working students\n",
      "We have no hard working students\n"
     ]
    }
   ],
   "source": [
    "hard_working_students = []\n",
    "if len(hard_working_students) == 0:    \n",
    "    print \"We have no hard working students\"\n",
    "else:\n",
    "    print \"We have\", len(hard_working_students), \"hard working students\"\n",
    "# equivalent code - but I think PEP8 recommends against it\n",
    "if not hard_working_students:\n",
    "    print \"We have no hard working students\"\n",
    "else:\n",
    "    print \"We have\", len(hard_working_students), \"hard working students\""
   ]
  },
  {
   "cell_type": "markdown",
   "metadata": {},
   "source": [
    "**Exercise 1**"
   ]
  },
  {
   "cell_type": "code",
   "execution_count": null,
   "metadata": {
    "collapsed": true
   },
   "outputs": [],
   "source": [
    "number1 = ____\n",
    "number2 = ____\n",
    "if _____:\n",
    "    print \"number1 is within 10% of number2\"\n",
    "else:\n",
    "    print \"number1 is not within 10% of number2\""
   ]
  },
  {
   "cell_type": "code",
   "execution_count": 45,
   "metadata": {
    "collapsed": false
   },
   "outputs": [
    {
     "name": "stdout",
     "output_type": "stream",
     "text": [
      "1.25\n",
      "number1 is not within 10% of number2\n"
     ]
    }
   ],
   "source": [
    "number1 = 8.0\n",
    "number2 = 10.0\n",
    "print number2 / number1\n",
    "if  (((number1 / number2) >= 0.9) and ((number1 / number2) <= 1.1)) or (((number2 / number1) >= 0.9) and ((number2 / number1) <= 1.1)):\n",
    "    print \"number1 is within 10% of number2\"\n",
    "else:\n",
    "    print \"number1 is not within 10% of number2\""
   ]
  },
  {
   "cell_type": "code",
   "execution_count": 47,
   "metadata": {
    "collapsed": false
   },
   "outputs": [
    {
     "name": "stdout",
     "output_type": "stream",
     "text": [
      "1.11111111111\n",
      "number1 is within 10% of number2\n"
     ]
    }
   ],
   "source": [
    "number1 = 9\n",
    "number2 = 10.0\n",
    "print number2 / number1\n",
    "if  (((number1 / number2) >= 0.9) and ((number1 / number2) <= 1.1)):\n",
    "    print \"number1 is within 10% of number2\"\n",
    "else:\n",
    "    print \"number1 is not within 10% of number2\""
   ]
  },
  {
   "cell_type": "code",
   "execution_count": 50,
   "metadata": {
    "collapsed": false
   },
   "outputs": [
    {
     "name": "stdout",
     "output_type": "stream",
     "text": [
      "number1 is within 10% of number2\n"
     ]
    }
   ],
   "source": [
    "number1 = 9\n",
    "number2 = 10\n",
    "percentage = (number2/100.0)*10\n",
    "Rangeup = number2 + percentage\n",
    "Rangedown = number2 - percentage\n",
    "\n",
    "if (number1 <= Rangeup) and (number1 >= Rangedown):\n",
    "    print 'number1 is within 10% of number2'\n",
    "else: \n",
    "    print 'number1 is not within 10% of number2'"
   ]
  },
  {
   "cell_type": "code",
   "execution_count": 53,
   "metadata": {
    "collapsed": false
   },
   "outputs": [
    {
     "name": "stdout",
     "output_type": "stream",
     "text": [
      "50\n"
     ]
    }
   ],
   "source": [
    "num = 5\n",
    "num *= 10\n",
    "print num"
   ]
  },
  {
   "cell_type": "code",
   "execution_count": null,
   "metadata": {
    "collapsed": true
   },
   "outputs": [],
   "source": []
  }
 ],
 "metadata": {
  "kernelspec": {
   "display_name": "Python 2",
   "language": "python",
   "name": "python2"
  },
  "language_info": {
   "codemirror_mode": {
    "name": "ipython",
    "version": 2
   },
   "file_extension": ".py",
   "mimetype": "text/x-python",
   "name": "python",
   "nbconvert_exporter": "python",
   "pygments_lexer": "ipython2",
   "version": "2.7.10"
  }
 },
 "nbformat": 4,
 "nbformat_minor": 0
}
