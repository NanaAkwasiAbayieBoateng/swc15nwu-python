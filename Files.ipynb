{
 "cells": [
  {
   "cell_type": "code",
   "execution_count": 1,
   "metadata": {
    "collapsed": false
   },
   "outputs": [
    {
     "data": {
      "text/plain": [
       "u'/home/pvh/Desktop/python/data'"
      ]
     },
     "execution_count": 1,
     "metadata": {},
     "output_type": "execute_result"
    }
   ],
   "source": [
    "pwd"
   ]
  },
  {
   "cell_type": "code",
   "execution_count": 2,
   "metadata": {
    "collapsed": false
   },
   "outputs": [
    {
     "name": "stdout",
     "output_type": "stream",
     "text": [
      "/home/pvh/Desktop/python/molecules\n"
     ]
    }
   ],
   "source": [
    "cd ../molecules/"
   ]
  },
  {
   "cell_type": "code",
   "execution_count": 3,
   "metadata": {
    "collapsed": false
   },
   "outputs": [
    {
     "data": {
      "text/plain": [
       "u'/home/pvh/Desktop/python/molecules'"
      ]
     },
     "execution_count": 3,
     "metadata": {},
     "output_type": "execute_result"
    }
   ],
   "source": [
    "pwd"
   ]
  },
  {
   "cell_type": "code",
   "execution_count": 4,
   "metadata": {
    "collapsed": false
   },
   "outputs": [
    {
     "name": "stdout",
     "output_type": "stream",
     "text": [
      "cubane.pdb  ethane.pdb  methane.pdb  octane.pdb  pentane.pdb  propane.pdb\r\n"
     ]
    }
   ],
   "source": [
    "ls"
   ]
  },
  {
   "cell_type": "code",
   "execution_count": 5,
   "metadata": {
    "collapsed": true
   },
   "outputs": [],
   "source": [
    "input_file = open('methane.pdb')"
   ]
  },
  {
   "cell_type": "code",
   "execution_count": 6,
   "metadata": {
    "collapsed": false
   },
   "outputs": [
    {
     "data": {
      "text/plain": [
       "file"
      ]
     },
     "execution_count": 6,
     "metadata": {},
     "output_type": "execute_result"
    }
   ],
   "source": [
    "type(input_file)"
   ]
  },
  {
   "cell_type": "code",
   "execution_count": 14,
   "metadata": {
    "collapsed": false
   },
   "outputs": [
    {
     "name": "stdout",
     "output_type": "stream",
     "text": [
      "COMPND      METHANE\n",
      "AUTHOR      DAVE WOODCOCK  95 12 18\n",
      "ATOM      1  C           1       0.257  -0.363   0.000  1.00  0.00\n",
      "ATOM      2  H           1       0.257   0.727   0.000  1.00  0.00\n",
      "ATOM      3  H           1       0.771  -0.727   0.890  1.00  0.00\n",
      "ATOM      4  H           1       0.771  -0.727  -0.890  1.00  0.00\n",
      "ATOM      5  H           1      -0.771  -0.727   0.000  1.00  0.00\n",
      "TER       6              1\n",
      "END\n"
     ]
    }
   ],
   "source": [
    "input_file = open('methane.pdb')\n",
    "for line in input_file:\n",
    "    line = line.rstrip()\n",
    "    print line"
   ]
  },
  {
   "cell_type": "code",
   "execution_count": 15,
   "metadata": {
    "collapsed": false
   },
   "outputs": [
    {
     "ename": "IOError",
     "evalue": "[Errno 2] No such file or directory: 'mehane.pdb'",
     "output_type": "error",
     "traceback": [
      "\u001b[1;31m---------------------------------------------------------------------------\u001b[0m",
      "\u001b[1;31mIOError\u001b[0m                                   Traceback (most recent call last)",
      "\u001b[1;32m<ipython-input-15-9703441e3a2f>\u001b[0m in \u001b[0;36m<module>\u001b[1;34m()\u001b[0m\n\u001b[1;32m----> 1\u001b[1;33m \u001b[0minput_file\u001b[0m \u001b[1;33m=\u001b[0m \u001b[0mopen\u001b[0m\u001b[1;33m(\u001b[0m\u001b[1;34m'mehane.pdb'\u001b[0m\u001b[1;33m)\u001b[0m\u001b[1;33m\u001b[0m\u001b[0m\n\u001b[0m\u001b[0;32m      2\u001b[0m \u001b[1;32mfor\u001b[0m \u001b[0mline\u001b[0m \u001b[1;32min\u001b[0m \u001b[0minput_file\u001b[0m\u001b[1;33m:\u001b[0m\u001b[1;33m\u001b[0m\u001b[0m\n\u001b[0;32m      3\u001b[0m     \u001b[0mline\u001b[0m \u001b[1;33m=\u001b[0m \u001b[0mline\u001b[0m\u001b[1;33m.\u001b[0m\u001b[0mrstrip\u001b[0m\u001b[1;33m(\u001b[0m\u001b[1;33m)\u001b[0m\u001b[1;33m\u001b[0m\u001b[0m\n\u001b[0;32m      4\u001b[0m     \u001b[1;32mprint\u001b[0m \u001b[0mline\u001b[0m\u001b[1;33m\u001b[0m\u001b[0m\n",
      "\u001b[1;31mIOError\u001b[0m: [Errno 2] No such file or directory: 'mehane.pdb'"
     ]
    }
   ],
   "source": [
    "input_file = open('mehane.pdb')\n",
    "for line in input_file:\n",
    "    line = line.rstrip()\n",
    "    print line"
   ]
  },
  {
   "cell_type": "code",
   "execution_count": 22,
   "metadata": {
    "collapsed": false
   },
   "outputs": [],
   "source": [
    "def print_file(filename):\n",
    "    try:\n",
    "        input_file = open(filename)\n",
    "    except IOError as ex:\n",
    "        print 'I got an error when opening', filename, ':', ex.strerror\n",
    "    else:\n",
    "        for line in input_file:\n",
    "            line = line.rstrip()\n",
    "            print line    "
   ]
  },
  {
   "cell_type": "code",
   "execution_count": 24,
   "metadata": {
    "collapsed": false
   },
   "outputs": [
    {
     "name": "stdout",
     "output_type": "stream",
     "text": [
      "COMPND      METHANE\n",
      "AUTHOR      DAVE WOODCOCK  95 12 18\n",
      "ATOM      1  C           1       0.257  -0.363   0.000  1.00  0.00\n",
      "ATOM      2  H           1       0.257   0.727   0.000  1.00  0.00\n",
      "ATOM      3  H           1       0.771  -0.727   0.890  1.00  0.00\n",
      "ATOM      4  H           1       0.771  -0.727  -0.890  1.00  0.00\n",
      "ATOM      5  H           1      -0.771  -0.727   0.000  1.00  0.00\n",
      "TER       6              1\n",
      "END\n"
     ]
    }
   ],
   "source": [
    "filename = 'methane.pdb'\n",
    "print_file(filename)"
   ]
  },
  {
   "cell_type": "code",
   "execution_count": 28,
   "metadata": {
    "collapsed": true
   },
   "outputs": [],
   "source": [
    "def count_atom(filename, atom_type):\n",
    "    try:\n",
    "        input_file = open(filename)\n",
    "    except IOError as ex:\n",
    "        print 'I got an error when opening', filename, ':', ex.strerror\n",
    "    else:\n",
    "        atom_count = 0\n",
    "        for line in input_file:\n",
    "            line = line.rstrip()\n",
    "            if line.startswith('ATOM'):\n",
    "                fields = line.split()\n",
    "                if fields[2] == atom_type:\n",
    "                    atom_count = atom_count + 1\n",
    "    return atom_count"
   ]
  },
  {
   "cell_type": "code",
   "execution_count": 29,
   "metadata": {
    "collapsed": false
   },
   "outputs": [
    {
     "data": {
      "text/plain": [
       "4"
      ]
     },
     "execution_count": 29,
     "metadata": {},
     "output_type": "execute_result"
    }
   ],
   "source": [
    "count_atom('methane.pdb', 'H')"
   ]
  },
  {
   "cell_type": "code",
   "execution_count": null,
   "metadata": {
    "collapsed": true
   },
   "outputs": [],
   "source": []
  }
 ],
 "metadata": {
  "kernelspec": {
   "display_name": "Python 2",
   "language": "python",
   "name": "python2"
  },
  "language_info": {
   "codemirror_mode": {
    "name": "ipython",
    "version": 2
   },
   "file_extension": ".py",
   "mimetype": "text/x-python",
   "name": "python",
   "nbconvert_exporter": "python",
   "pygments_lexer": "ipython2",
   "version": "2.7.10"
  }
 },
 "nbformat": 4,
 "nbformat_minor": 0
}
